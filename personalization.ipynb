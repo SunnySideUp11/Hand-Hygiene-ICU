{
 "cells": [
  {
   "cell_type": "code",
   "execution_count": 2,
   "metadata": {},
   "outputs": [],
   "source": [
    "from utils import get_personalized_data\n",
    "from ml import myModel, find_best_SVC\n",
    "import numpy as np\n",
    "import os\n",
    "import joblib"
   ]
  },
  {
   "cell_type": "code",
   "execution_count": 5,
   "metadata": {},
   "outputs": [],
   "source": [
    "# MODELS = [\"KNN\", \"RF\", \"SVC\", \"MLP\"]\n",
    "MODELS = [\"KNN\"]\n",
    "\n",
    "\n",
    "def run_personalized_exp(view_idx=1, best_params=False):\n",
    "    personalized_data = get_personalized_data(view_idx=view_idx)\n",
    "    RESULT = {\n",
    "        \"KNN\": [],\n",
    "        \"RF\": [],\n",
    "        \"MLP\": [],\n",
    "        \"SVC\": []\n",
    "    }\n",
    "    best_acc = dict(KNN=0.0, RF=0.0, MLP=0.0, SVC=0.0)\n",
    "    save_folder = \"./output/personalzation/\"\n",
    "    if not os.path.exists(save_folder):\n",
    "        os.makedirs(save_folder)\n",
    "    for data_train, data_test in personalized_data:\n",
    "        for model_name in MODELS:\n",
    "            my_model = myModel(model_name)\n",
    "            if model_name == \"SVC\" and best_params:\n",
    "                best_params = find_best_SVC(data_train[0], data_train[1])\n",
    "                my_model.model.set_params(**best_params)\n",
    "            my_model.train(data_train)\n",
    "            result = my_model.test(data_test)\n",
    "            RESULT[model_name].append(result)\n",
    "            acc = result['accuracy_score']\n",
    "            if acc > best_acc[model_name]:\n",
    "                best_acc[model_name] = acc\n",
    "                joblib.dump(my_model.model, os.path.join(save_folder,, f\"{model_name}.pkl\"))\n",
    "                \n",
    "    return RESULT\n",
    "\n",
    "def show_results(results):\n",
    "    for model_name in MODELS:\n",
    "        acc = np.array([item[\"accuracy_score\"] for item in results[model_name]])\n",
    "        f1 = np.array([item[\"f1_score\"] for item in results[model_name]])\n",
    "        recall = np.array([item[\"recall_score\"] for item in results[model_name]])\n",
    "        \n",
    "        print(f\"{model_name}\")\n",
    "        print(f\"acc: {acc.mean() * 100: .2f}  {acc.std() * 2 * 100: .2f}\")\n",
    "        print(f\"f1: {f1.mean() * 100: .2f}  {f1.std() * 2 * 100: .2f}\")\n",
    "        print(f\"recall: {recall.mean() * 100: .2f}  {recall.std() * 2 * 100: .2f}\")"
   ]
  },
  {
   "cell_type": "code",
   "execution_count": 7,
   "metadata": {},
   "outputs": [
    {
     "name": "stdout",
     "output_type": "stream",
     "text": [
      "KNN\n",
      "acc:  52.72   21.39\n",
      "f1:  46.33   18.36\n",
      "recall:  50.55   18.32\n"
     ]
    }
   ],
   "source": [
    "results = run_personalized_exp()\n",
    "show_results(results)"
   ]
  }
 ],
 "metadata": {
  "kernelspec": {
   "display_name": "base",
   "language": "python",
   "name": "python3"
  },
  "language_info": {
   "codemirror_mode": {
    "name": "ipython",
    "version": 3
   },
   "file_extension": ".py",
   "mimetype": "text/x-python",
   "name": "python",
   "nbconvert_exporter": "python",
   "pygments_lexer": "ipython3",
   "version": "3.10.8"
  },
  "orig_nbformat": 4,
  "vscode": {
   "interpreter": {
    "hash": "c7e1e7af7581e1d6e6fdb004c41e6172ba861bd5a721b58a6fe4500761c75bdc"
   }
  }
 },
 "nbformat": 4,
 "nbformat_minor": 2
}

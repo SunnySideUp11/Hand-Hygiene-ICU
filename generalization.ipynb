{
 "cells": [
  {
   "cell_type": "code",
   "execution_count": 1,
   "metadata": {},
   "outputs": [],
   "source": [
    "from utils import get_generalized_data\n",
    "from ml import myModel, Trainer, find_best_SVC\n",
    "import numpy as np"
   ]
  },
  {
   "cell_type": "code",
   "execution_count": 2,
   "metadata": {},
   "outputs": [],
   "source": [
    "MODELS = [\"KNN\", \"RF\", \"MLP\", \"SVC\"]\n",
    "\n",
    "\n",
    "def run_generalized_exp(view_idx=1, best_params=False):\n",
    "    X, Y = get_generalized_data(view_idx=view_idx)\n",
    "    RESULT = {\n",
    "        \"KNN\": [],\n",
    "        \"RF\": [],\n",
    "        \"MLP\": [],\n",
    "        \"SVC\": []\n",
    "    }\n",
    "    for model_name in MODELS:\n",
    "        model = myModel(model_name)\n",
    "        if model_name == \"SVC\" and best_params:\n",
    "            best_params = find_best_SVC(X, Y)\n",
    "            model.model.set_params(**best_params)\n",
    "        trainer = Trainer(model, X, Y, mode=\"KF\")\n",
    "        results = trainer.run()\n",
    "        RESULT[model_name].append(results)\n",
    "    return RESULT\n",
    "\n",
    "def show_results(results):\n",
    "    for model_name in MODELS:\n",
    "        acc = np.array([item[\"accuracy_score\"] for item in results[model_name][0]])\n",
    "        f1 = np.array([item[\"f1_score\"] for item in results[model_name][0]])\n",
    "        recall = np.array([item[\"recall_score\"] for item in results[model_name][0]])\n",
    "        \n",
    "        print(f\"{model_name}\")\n",
    "        print(f\"acc: {acc.mean() * 100: .2f}  {acc.std() * 2 * 100: .2f}\")\n",
    "        print(f\"f1: {f1.mean() * 100: .2f}  {f1.std() * 2 * 100: .2f}\")\n",
    "        print(f\"recall: {recall.mean() * 100: .2f}  {recall.std() * 2 * 100: .2f}\")"
   ]
  },
  {
   "cell_type": "code",
   "execution_count": 3,
   "metadata": {},
   "outputs": [
    {
     "name": "stdout",
     "output_type": "stream",
     "text": [
      "KNN\n",
      "acc:  90.45   2.23\n",
      "f1:  88.52   2.20\n",
      "recall:  87.87   2.34\n",
      "RF\n",
      "acc:  87.20   2.11\n",
      "f1:  85.00   1.98\n",
      "recall:  84.31   1.86\n",
      "MLP\n",
      "acc:  91.54   2.63\n",
      "f1:  89.43   2.77\n",
      "recall:  89.25   2.97\n",
      "SVC\n",
      "acc:  72.68   2.27\n",
      "f1:  68.72   2.76\n",
      "recall:  67.58   2.78\n"
     ]
    }
   ],
   "source": [
    "results = run_generalized_exp(view_idx=1)\n",
    "show_results(results)"
   ]
  }
 ],
 "metadata": {
  "kernelspec": {
   "display_name": "base",
   "language": "python",
   "name": "python3"
  },
  "language_info": {
   "codemirror_mode": {
    "name": "ipython",
    "version": 3
   },
   "file_extension": ".py",
   "mimetype": "text/x-python",
   "name": "python",
   "nbconvert_exporter": "python",
   "pygments_lexer": "ipython3",
   "version": "3.10.8"
  },
  "orig_nbformat": 4,
  "vscode": {
   "interpreter": {
    "hash": "c7e1e7af7581e1d6e6fdb004c41e6172ba861bd5a721b58a6fe4500761c75bdc"
   }
  }
 },
 "nbformat": 4,
 "nbformat_minor": 2
}
